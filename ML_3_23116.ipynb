{
  "nbformat": 4,
  "nbformat_minor": 0,
  "metadata": {
    "colab": {
      "provenance": []
    },
    "kernelspec": {
      "name": "python3",
      "display_name": "Python 3"
    },
    "language_info": {
      "name": "python"
    }
  },
  "cells": [
    {
      "cell_type": "code",
      "source": [
        "from google.colab import files\n",
        "\n",
        "uploaded = files.upload()  # Opens a file upload dialog\n"
      ],
      "metadata": {
        "colab": {
          "base_uri": "https://localhost:8080/",
          "height": 73
        },
        "id": "45xyEgVy-g21",
        "outputId": "70cc347e-0ca7-496a-93f9-fd9925e0127d"
      },
      "execution_count": 25,
      "outputs": [
        {
          "output_type": "display_data",
          "data": {
            "text/plain": [
              "<IPython.core.display.HTML object>"
            ],
            "text/html": [
              "\n",
              "     <input type=\"file\" id=\"files-c615d25a-1782-4d13-91c9-0ddbde0db377\" name=\"files[]\" multiple disabled\n",
              "        style=\"border:none\" />\n",
              "     <output id=\"result-c615d25a-1782-4d13-91c9-0ddbde0db377\">\n",
              "      Upload widget is only available when the cell has been executed in the\n",
              "      current browser session. Please rerun this cell to enable.\n",
              "      </output>\n",
              "      <script>// Copyright 2017 Google LLC\n",
              "//\n",
              "// Licensed under the Apache License, Version 2.0 (the \"License\");\n",
              "// you may not use this file except in compliance with the License.\n",
              "// You may obtain a copy of the License at\n",
              "//\n",
              "//      http://www.apache.org/licenses/LICENSE-2.0\n",
              "//\n",
              "// Unless required by applicable law or agreed to in writing, software\n",
              "// distributed under the License is distributed on an \"AS IS\" BASIS,\n",
              "// WITHOUT WARRANTIES OR CONDITIONS OF ANY KIND, either express or implied.\n",
              "// See the License for the specific language governing permissions and\n",
              "// limitations under the License.\n",
              "\n",
              "/**\n",
              " * @fileoverview Helpers for google.colab Python module.\n",
              " */\n",
              "(function(scope) {\n",
              "function span(text, styleAttributes = {}) {\n",
              "  const element = document.createElement('span');\n",
              "  element.textContent = text;\n",
              "  for (const key of Object.keys(styleAttributes)) {\n",
              "    element.style[key] = styleAttributes[key];\n",
              "  }\n",
              "  return element;\n",
              "}\n",
              "\n",
              "// Max number of bytes which will be uploaded at a time.\n",
              "const MAX_PAYLOAD_SIZE = 100 * 1024;\n",
              "\n",
              "function _uploadFiles(inputId, outputId) {\n",
              "  const steps = uploadFilesStep(inputId, outputId);\n",
              "  const outputElement = document.getElementById(outputId);\n",
              "  // Cache steps on the outputElement to make it available for the next call\n",
              "  // to uploadFilesContinue from Python.\n",
              "  outputElement.steps = steps;\n",
              "\n",
              "  return _uploadFilesContinue(outputId);\n",
              "}\n",
              "\n",
              "// This is roughly an async generator (not supported in the browser yet),\n",
              "// where there are multiple asynchronous steps and the Python side is going\n",
              "// to poll for completion of each step.\n",
              "// This uses a Promise to block the python side on completion of each step,\n",
              "// then passes the result of the previous step as the input to the next step.\n",
              "function _uploadFilesContinue(outputId) {\n",
              "  const outputElement = document.getElementById(outputId);\n",
              "  const steps = outputElement.steps;\n",
              "\n",
              "  const next = steps.next(outputElement.lastPromiseValue);\n",
              "  return Promise.resolve(next.value.promise).then((value) => {\n",
              "    // Cache the last promise value to make it available to the next\n",
              "    // step of the generator.\n",
              "    outputElement.lastPromiseValue = value;\n",
              "    return next.value.response;\n",
              "  });\n",
              "}\n",
              "\n",
              "/**\n",
              " * Generator function which is called between each async step of the upload\n",
              " * process.\n",
              " * @param {string} inputId Element ID of the input file picker element.\n",
              " * @param {string} outputId Element ID of the output display.\n",
              " * @return {!Iterable<!Object>} Iterable of next steps.\n",
              " */\n",
              "function* uploadFilesStep(inputId, outputId) {\n",
              "  const inputElement = document.getElementById(inputId);\n",
              "  inputElement.disabled = false;\n",
              "\n",
              "  const outputElement = document.getElementById(outputId);\n",
              "  outputElement.innerHTML = '';\n",
              "\n",
              "  const pickedPromise = new Promise((resolve) => {\n",
              "    inputElement.addEventListener('change', (e) => {\n",
              "      resolve(e.target.files);\n",
              "    });\n",
              "  });\n",
              "\n",
              "  const cancel = document.createElement('button');\n",
              "  inputElement.parentElement.appendChild(cancel);\n",
              "  cancel.textContent = 'Cancel upload';\n",
              "  const cancelPromise = new Promise((resolve) => {\n",
              "    cancel.onclick = () => {\n",
              "      resolve(null);\n",
              "    };\n",
              "  });\n",
              "\n",
              "  // Wait for the user to pick the files.\n",
              "  const files = yield {\n",
              "    promise: Promise.race([pickedPromise, cancelPromise]),\n",
              "    response: {\n",
              "      action: 'starting',\n",
              "    }\n",
              "  };\n",
              "\n",
              "  cancel.remove();\n",
              "\n",
              "  // Disable the input element since further picks are not allowed.\n",
              "  inputElement.disabled = true;\n",
              "\n",
              "  if (!files) {\n",
              "    return {\n",
              "      response: {\n",
              "        action: 'complete',\n",
              "      }\n",
              "    };\n",
              "  }\n",
              "\n",
              "  for (const file of files) {\n",
              "    const li = document.createElement('li');\n",
              "    li.append(span(file.name, {fontWeight: 'bold'}));\n",
              "    li.append(span(\n",
              "        `(${file.type || 'n/a'}) - ${file.size} bytes, ` +\n",
              "        `last modified: ${\n",
              "            file.lastModifiedDate ? file.lastModifiedDate.toLocaleDateString() :\n",
              "                                    'n/a'} - `));\n",
              "    const percent = span('0% done');\n",
              "    li.appendChild(percent);\n",
              "\n",
              "    outputElement.appendChild(li);\n",
              "\n",
              "    const fileDataPromise = new Promise((resolve) => {\n",
              "      const reader = new FileReader();\n",
              "      reader.onload = (e) => {\n",
              "        resolve(e.target.result);\n",
              "      };\n",
              "      reader.readAsArrayBuffer(file);\n",
              "    });\n",
              "    // Wait for the data to be ready.\n",
              "    let fileData = yield {\n",
              "      promise: fileDataPromise,\n",
              "      response: {\n",
              "        action: 'continue',\n",
              "      }\n",
              "    };\n",
              "\n",
              "    // Use a chunked sending to avoid message size limits. See b/62115660.\n",
              "    let position = 0;\n",
              "    do {\n",
              "      const length = Math.min(fileData.byteLength - position, MAX_PAYLOAD_SIZE);\n",
              "      const chunk = new Uint8Array(fileData, position, length);\n",
              "      position += length;\n",
              "\n",
              "      const base64 = btoa(String.fromCharCode.apply(null, chunk));\n",
              "      yield {\n",
              "        response: {\n",
              "          action: 'append',\n",
              "          file: file.name,\n",
              "          data: base64,\n",
              "        },\n",
              "      };\n",
              "\n",
              "      let percentDone = fileData.byteLength === 0 ?\n",
              "          100 :\n",
              "          Math.round((position / fileData.byteLength) * 100);\n",
              "      percent.textContent = `${percentDone}% done`;\n",
              "\n",
              "    } while (position < fileData.byteLength);\n",
              "  }\n",
              "\n",
              "  // All done.\n",
              "  yield {\n",
              "    response: {\n",
              "      action: 'complete',\n",
              "    }\n",
              "  };\n",
              "}\n",
              "\n",
              "scope.google = scope.google || {};\n",
              "scope.google.colab = scope.google.colab || {};\n",
              "scope.google.colab._files = {\n",
              "  _uploadFiles,\n",
              "  _uploadFilesContinue,\n",
              "};\n",
              "})(self);\n",
              "</script> "
            ]
          },
          "metadata": {}
        },
        {
          "output_type": "stream",
          "name": "stdout",
          "text": [
            "Saving data.csv to data.csv\n"
          ]
        }
      ]
    },
    {
      "cell_type": "markdown",
      "source": [],
      "metadata": {
        "id": "BSgPTYok-so7"
      }
    },
    {
      "cell_type": "code",
      "source": [
        "import os\n",
        "\n",
        "print(\"Current Directory:\", os.getcwd())\n",
        "print(\"Files in Directory:\", os.listdir())  # Lists all files in the current directory\n"
      ],
      "metadata": {
        "colab": {
          "base_uri": "https://localhost:8080/"
        },
        "id": "ozCmjuIV-n0q",
        "outputId": "17a9f0bc-7884-4ef9-d60f-061707d866e9"
      },
      "execution_count": 26,
      "outputs": [
        {
          "output_type": "stream",
          "name": "stdout",
          "text": [
            "Current Directory: /content\n",
            "Files in Directory: ['.config', 'data.csv', 'sample_data']\n"
          ]
        }
      ]
    },
    {
      "cell_type": "code",
      "source": [
        "import pandas as pd\n",
        "\n",
        "file_path = \"data.csv\"  # If uploaded to the current directory\n",
        "df = pd.read_csv(file_path)\n",
        "\n",
        "print(df.head())  # Display first few rows\n"
      ],
      "metadata": {
        "colab": {
          "base_uri": "https://localhost:8080/"
        },
        "id": "zSrLycWW-3Et",
        "outputId": "a04c03d2-9663-48d4-8a35-a5aafb2c9ee3"
      },
      "execution_count": 27,
      "outputs": [
        {
          "output_type": "stream",
          "name": "stdout",
          "text": [
            "   age  sex  cp  trestbps  chol  fbs  restecg  thalach  exang  oldpeak  slope  \\\n",
            "0   70    1   3       130   322    0        2      109      0      2.4      1   \n",
            "1   67    0   2       115   564    0        2      160      0      1.6      1   \n",
            "2   57    1   1       124   261    0        0      141      0      0.3      0   \n",
            "3   64    1   3       128   263    0        0      105      1      0.2      1   \n",
            "4   74    0   1       120   269    0        2      121      1      0.2      0   \n",
            "\n",
            "   ca  thal  target  \n",
            "0   3     1       1  \n",
            "1   0     3       0  \n",
            "2   0     3       1  \n",
            "3   1     3       0  \n",
            "4   1     1       0  \n"
          ]
        }
      ]
    },
    {
      "cell_type": "code",
      "source": [
        "import numpy as np\n",
        "import pandas as pd\n",
        "\n",
        "# Load the dataset (update the file path as needed)\n",
        "file_path = r\"data.csv\"\n",
        "df = pd.read_csv(file_path)\n",
        "\n",
        "# Separate data by class (assuming binary classification: 0 and 1)\n",
        "class_0 = df[df[\"target\"] == 0].drop(columns=[\"target\"])\n",
        "class_1 = df[df[\"target\"] == 1].drop(columns=[\"target\"])\n",
        "\n",
        "# Compute centroids (mean vectors)\n",
        "centroid_0 = class_0.mean(axis=0)\n",
        "centroid_1 = class_1.mean(axis=0)\n",
        "\n",
        "# Compute intraclass spread (standard deviation)\n",
        "spread_0 = class_0.std(axis=0)\n",
        "spread_1 = class_1.std(axis=0)\n",
        "\n",
        "# Compute interclass distance (Euclidean distance between centroids)\n",
        "interclass_distance = np.linalg.norm(centroid_0 - centroid_1)\n",
        "\n",
        "# Display results\n",
        "print(\"Class 0 Centroid:\\n\", centroid_0)\n",
        "print(\"\\nClass 1 Centroid:\\n\", centroid_1)\n",
        "print(\"\\nClass 0 Spread (Standard Deviation):\\n\", spread_0)\n",
        "print(\"\\nClass 1 Spread (Standard Deviation):\\n\", spread_1)\n",
        "print(\"\\nInterclass Distance:\\n\", interclass_distance)\n"
      ],
      "metadata": {
        "colab": {
          "base_uri": "https://localhost:8080/"
        },
        "id": "9UfAbYUQ_AEa",
        "outputId": "dcee93bf-f39a-429e-e7bd-4b77cbc716ea"
      },
      "execution_count": 29,
      "outputs": [
        {
          "output_type": "stream",
          "name": "stdout",
          "text": [
            "Class 0 Centroid:\n",
            " age          52.706667\n",
            "sex           0.553333\n",
            "cp            1.820000\n",
            "trestbps    128.866667\n",
            "chol        244.213333\n",
            "fbs           0.153333\n",
            "restecg       0.860000\n",
            "thalach     158.333333\n",
            "exang         0.153333\n",
            "oldpeak       0.622667\n",
            "slope         0.400000\n",
            "ca            0.286667\n",
            "thal          1.373333\n",
            "dtype: float64\n",
            "\n",
            "Class 1 Centroid:\n",
            " age          56.591667\n",
            "sex           0.833333\n",
            "cp            2.616667\n",
            "trestbps    134.441667\n",
            "chol        256.466667\n",
            "fbs           0.141667\n",
            "restecg       1.225000\n",
            "thalach     138.858333\n",
            "exang         0.550000\n",
            "oldpeak       1.584167\n",
            "slope         0.816667\n",
            "ca            1.150000\n",
            "thal          2.383333\n",
            "dtype: float64\n",
            "\n",
            "Class 0 Spread (Standard Deviation):\n",
            " age          9.509830\n",
            "sex          0.498813\n",
            "cp           0.927362\n",
            "trestbps    16.457660\n",
            "chol        54.019085\n",
            "fbs          0.361516\n",
            "restecg      0.990085\n",
            "thalach     19.283357\n",
            "exang        0.361516\n",
            "oldpeak      0.800851\n",
            "slope        0.590757\n",
            "ca           0.648557\n",
            "thal         0.755709\n",
            "dtype: float64\n",
            "\n",
            "Class 1 Spread (Standard Deviation):\n",
            " age          8.116273\n",
            "sex          0.374241\n",
            "cp           0.779823\n",
            "trestbps    19.095424\n",
            "chol        47.969166\n",
            "fbs          0.350170\n",
            "restecg      0.974140\n",
            "thalach     23.130719\n",
            "exang        0.499580\n",
            "oldpeak      1.282067\n",
            "slope        0.564843\n",
            "ca           1.034286\n",
            "thal         0.890504\n",
            "dtype: float64\n",
            "\n",
            "Interclass Distance:\n",
            " 24.071995636354426\n"
          ]
        }
      ]
    },
    {
      "cell_type": "code",
      "source": [
        "from google.colab import files\n",
        "\n",
        "uploaded = files.upload()  # Opens a file upload dialog\n"
      ],
      "metadata": {
        "colab": {
          "base_uri": "https://localhost:8080/",
          "height": 73
        },
        "id": "ftLyN2vbdqnH",
        "outputId": "1156ce58-61cf-4956-d516-cb84b4366668"
      },
      "execution_count": 3,
      "outputs": [
        {
          "output_type": "display_data",
          "data": {
            "text/plain": [
              "<IPython.core.display.HTML object>"
            ],
            "text/html": [
              "\n",
              "     <input type=\"file\" id=\"files-eeaa9ac6-33e9-456f-98e2-96cfcf29a7b4\" name=\"files[]\" multiple disabled\n",
              "        style=\"border:none\" />\n",
              "     <output id=\"result-eeaa9ac6-33e9-456f-98e2-96cfcf29a7b4\">\n",
              "      Upload widget is only available when the cell has been executed in the\n",
              "      current browser session. Please rerun this cell to enable.\n",
              "      </output>\n",
              "      <script>// Copyright 2017 Google LLC\n",
              "//\n",
              "// Licensed under the Apache License, Version 2.0 (the \"License\");\n",
              "// you may not use this file except in compliance with the License.\n",
              "// You may obtain a copy of the License at\n",
              "//\n",
              "//      http://www.apache.org/licenses/LICENSE-2.0\n",
              "//\n",
              "// Unless required by applicable law or agreed to in writing, software\n",
              "// distributed under the License is distributed on an \"AS IS\" BASIS,\n",
              "// WITHOUT WARRANTIES OR CONDITIONS OF ANY KIND, either express or implied.\n",
              "// See the License for the specific language governing permissions and\n",
              "// limitations under the License.\n",
              "\n",
              "/**\n",
              " * @fileoverview Helpers for google.colab Python module.\n",
              " */\n",
              "(function(scope) {\n",
              "function span(text, styleAttributes = {}) {\n",
              "  const element = document.createElement('span');\n",
              "  element.textContent = text;\n",
              "  for (const key of Object.keys(styleAttributes)) {\n",
              "    element.style[key] = styleAttributes[key];\n",
              "  }\n",
              "  return element;\n",
              "}\n",
              "\n",
              "// Max number of bytes which will be uploaded at a time.\n",
              "const MAX_PAYLOAD_SIZE = 100 * 1024;\n",
              "\n",
              "function _uploadFiles(inputId, outputId) {\n",
              "  const steps = uploadFilesStep(inputId, outputId);\n",
              "  const outputElement = document.getElementById(outputId);\n",
              "  // Cache steps on the outputElement to make it available for the next call\n",
              "  // to uploadFilesContinue from Python.\n",
              "  outputElement.steps = steps;\n",
              "\n",
              "  return _uploadFilesContinue(outputId);\n",
              "}\n",
              "\n",
              "// This is roughly an async generator (not supported in the browser yet),\n",
              "// where there are multiple asynchronous steps and the Python side is going\n",
              "// to poll for completion of each step.\n",
              "// This uses a Promise to block the python side on completion of each step,\n",
              "// then passes the result of the previous step as the input to the next step.\n",
              "function _uploadFilesContinue(outputId) {\n",
              "  const outputElement = document.getElementById(outputId);\n",
              "  const steps = outputElement.steps;\n",
              "\n",
              "  const next = steps.next(outputElement.lastPromiseValue);\n",
              "  return Promise.resolve(next.value.promise).then((value) => {\n",
              "    // Cache the last promise value to make it available to the next\n",
              "    // step of the generator.\n",
              "    outputElement.lastPromiseValue = value;\n",
              "    return next.value.response;\n",
              "  });\n",
              "}\n",
              "\n",
              "/**\n",
              " * Generator function which is called between each async step of the upload\n",
              " * process.\n",
              " * @param {string} inputId Element ID of the input file picker element.\n",
              " * @param {string} outputId Element ID of the output display.\n",
              " * @return {!Iterable<!Object>} Iterable of next steps.\n",
              " */\n",
              "function* uploadFilesStep(inputId, outputId) {\n",
              "  const inputElement = document.getElementById(inputId);\n",
              "  inputElement.disabled = false;\n",
              "\n",
              "  const outputElement = document.getElementById(outputId);\n",
              "  outputElement.innerHTML = '';\n",
              "\n",
              "  const pickedPromise = new Promise((resolve) => {\n",
              "    inputElement.addEventListener('change', (e) => {\n",
              "      resolve(e.target.files);\n",
              "    });\n",
              "  });\n",
              "\n",
              "  const cancel = document.createElement('button');\n",
              "  inputElement.parentElement.appendChild(cancel);\n",
              "  cancel.textContent = 'Cancel upload';\n",
              "  const cancelPromise = new Promise((resolve) => {\n",
              "    cancel.onclick = () => {\n",
              "      resolve(null);\n",
              "    };\n",
              "  });\n",
              "\n",
              "  // Wait for the user to pick the files.\n",
              "  const files = yield {\n",
              "    promise: Promise.race([pickedPromise, cancelPromise]),\n",
              "    response: {\n",
              "      action: 'starting',\n",
              "    }\n",
              "  };\n",
              "\n",
              "  cancel.remove();\n",
              "\n",
              "  // Disable the input element since further picks are not allowed.\n",
              "  inputElement.disabled = true;\n",
              "\n",
              "  if (!files) {\n",
              "    return {\n",
              "      response: {\n",
              "        action: 'complete',\n",
              "      }\n",
              "    };\n",
              "  }\n",
              "\n",
              "  for (const file of files) {\n",
              "    const li = document.createElement('li');\n",
              "    li.append(span(file.name, {fontWeight: 'bold'}));\n",
              "    li.append(span(\n",
              "        `(${file.type || 'n/a'}) - ${file.size} bytes, ` +\n",
              "        `last modified: ${\n",
              "            file.lastModifiedDate ? file.lastModifiedDate.toLocaleDateString() :\n",
              "                                    'n/a'} - `));\n",
              "    const percent = span('0% done');\n",
              "    li.appendChild(percent);\n",
              "\n",
              "    outputElement.appendChild(li);\n",
              "\n",
              "    const fileDataPromise = new Promise((resolve) => {\n",
              "      const reader = new FileReader();\n",
              "      reader.onload = (e) => {\n",
              "        resolve(e.target.result);\n",
              "      };\n",
              "      reader.readAsArrayBuffer(file);\n",
              "    });\n",
              "    // Wait for the data to be ready.\n",
              "    let fileData = yield {\n",
              "      promise: fileDataPromise,\n",
              "      response: {\n",
              "        action: 'continue',\n",
              "      }\n",
              "    };\n",
              "\n",
              "    // Use a chunked sending to avoid message size limits. See b/62115660.\n",
              "    let position = 0;\n",
              "    do {\n",
              "      const length = Math.min(fileData.byteLength - position, MAX_PAYLOAD_SIZE);\n",
              "      const chunk = new Uint8Array(fileData, position, length);\n",
              "      position += length;\n",
              "\n",
              "      const base64 = btoa(String.fromCharCode.apply(null, chunk));\n",
              "      yield {\n",
              "        response: {\n",
              "          action: 'append',\n",
              "          file: file.name,\n",
              "          data: base64,\n",
              "        },\n",
              "      };\n",
              "\n",
              "      let percentDone = fileData.byteLength === 0 ?\n",
              "          100 :\n",
              "          Math.round((position / fileData.byteLength) * 100);\n",
              "      percent.textContent = `${percentDone}% done`;\n",
              "\n",
              "    } while (position < fileData.byteLength);\n",
              "  }\n",
              "\n",
              "  // All done.\n",
              "  yield {\n",
              "    response: {\n",
              "      action: 'complete',\n",
              "    }\n",
              "  };\n",
              "}\n",
              "\n",
              "scope.google = scope.google || {};\n",
              "scope.google.colab = scope.google.colab || {};\n",
              "scope.google.colab._files = {\n",
              "  _uploadFiles,\n",
              "  _uploadFilesContinue,\n",
              "};\n",
              "})(self);\n",
              "</script> "
            ]
          },
          "metadata": {}
        },
        {
          "output_type": "stream",
          "name": "stdout",
          "text": [
            "Saving data.csv to data.csv\n"
          ]
        }
      ]
    },
    {
      "cell_type": "code",
      "source": [
        "import numpy as np\n",
        "import pandas as pd\n",
        "import matplotlib.pyplot as plt\n",
        "\n",
        "# Load the dataset\n",
        "file_path = r\"data.csv\"  # Path to the uploaded file\n",
        "df = pd.read_csv(file_path)\n",
        "\n",
        "# Select a numerical feature for analysis\n",
        "feature = \"age\"  # Modify this to analyze a different feature\n",
        "\n",
        "# Extract and clean the data (remove missing values if any)\n",
        "data = df[feature].dropna()\n",
        "\n",
        "# Compute histogram data\n",
        "hist_counts, bin_edges = np.histogram(data, bins=10)  # Dividing data into 10 intervals\n",
        "\n",
        "# Calculate statistical properties\n",
        "mean_val = data.mean()\n",
        "variance_val = data.var()\n",
        "\n",
        "# Generate the histogram plot\n",
        "plt.figure(figsize=(8, 5))\n",
        "plt.hist(data, bins=10, color='royalblue', edgecolor='black', alpha=0.75)\n",
        "plt.xlabel(feature)\n",
        "plt.ylabel(\"Frequency\")\n",
        "plt.title(f\"Distribution of {feature}\")\n",
        "plt.grid(axis='y', linestyle='--', alpha=0.6)\n",
        "plt.show()\n",
        "\n",
        "# Display results\n",
        "print(f\"Feature Analyzed: {feature}\")\n",
        "print(f\"Mean: {mean_val:.2f}\")\n",
        "print(f\"Variance: {variance_val:.2f}\")\n"
      ],
      "metadata": {
        "colab": {
          "base_uri": "https://localhost:8080/",
          "height": 539
        },
        "id": "zxGrL0wddwsu",
        "outputId": "583b1ff1-0df4-47cd-dfa3-5bdec9c9651a"
      },
      "execution_count": 4,
      "outputs": [
        {
          "output_type": "display_data",
          "data": {
            "text/plain": [
              "<Figure size 800x500 with 1 Axes>"
            ],
            "image/png": "[encoded data removed]"
          },
          "metadata": {}
        },
        {
          "output_type": "stream",
          "name": "stdout",
          "text": [
            "Feature Analyzed: age\n",
            "Mean: 54.43\n",
            "Variance: 82.98\n"
          ]
        }
      ]
    },
    {
      "cell_type": "code",
      "source": [
        "import numpy as np\n",
        "import pandas as pd\n",
        "import matplotlib.pyplot as plt\n",
        "\n",
        "# Load dataset\n",
        "file_path = r\"data.csv\"  # Adjust if necessary\n",
        "df = pd.read_csv(file_path)\n",
        "\n",
        "# Select two numerical features\n",
        "feature_1 = \"age\"  # Modify as needed\n",
        "feature_2 = \"trestbps\"  # Modify as needed\n",
        "\n",
        "# Extract and clean the data (remove missing values)\n",
        "data_1 = df[feature_1].dropna().values\n",
        "data_2 = df[feature_2].dropna().values\n",
        "\n",
        "# Ensure both features have the same number of values\n",
        "min_len = min(len(data_1), len(data_2))\n",
        "data_1, data_2 = data_1[:min_len], data_2[:min_len]\n",
        "\n",
        "# Compute Minkowski distance for r values from 1 to 10\n",
        "r_values = np.arange(1, 11)\n",
        "minkowski_distances = [np.sum(np.abs(data_1 - data_2) ** r) ** (1 / r) for r in r_values]\n",
        "\n",
        "# Plot the distances\n",
        "plt.figure(figsize=(8, 5))\n",
        "plt.plot(r_values, minkowski_distances, marker='o', linestyle='-', color='darkorange', markersize=6)\n",
        "plt.xlabel(\"Minkowski Parameter (r)\")\n",
        "plt.ylabel(\"Minkowski Distance\")\n",
        "plt.title(f\"Minkowski Distance between {feature_1} and {feature_2}\")\n",
        "plt.xticks(r_values)\n",
        "plt.grid(alpha=0.6, linestyle='--')\n",
        "plt.show()\n",
        "\n",
        "# Display calculated distances\n",
        "for r, dist in zip(r_values, minkowski_distances):\n",
        "    print(f\"Minkowski Distance (r={r}): {dist:.4f}\")\n"
      ],
      "metadata": {
        "colab": {
          "base_uri": "https://localhost:8080/",
          "height": 661
        },
        "id": "4OUFcXk5f11a",
        "outputId": "2e06a6af-8124-47eb-e482-8183bb69cb72"
      },
      "execution_count": 7,
      "outputs": [
        {
          "output_type": "display_data",
          "data": {
            "text/plain": [
              "<Figure size 800x500 with 1 Axes>"
            ],
            "image/png": "[encoded data removed]"
          },
          "metadata": {}
        },
        {
          "output_type": "stream",
          "name": "stdout",
          "text": [
            "Minkowski Distance (r=1): 20766.0000\n",
            "Minkowski Distance (r=2): 1296.6788\n",
            "Minkowski Distance (r=3): 522.7023\n",
            "Minkowski Distance (r=4): 335.7025\n",
            "Minkowski Distance (r=5): 259.7176\n",
            "Minkowski Distance (r=6): 220.5251\n",
            "Minkowski Distance (r=7): 197.4652\n",
            "Minkowski Distance (r=8): 182.7670\n",
            "Minkowski Distance (r=9): 127.6042\n",
            "Minkowski Distance (r=10): 77.9470\n"
          ]
        }
      ]
    },
    {
      "cell_type": "code",
      "source": [
        "import numpy as np\n",
        "import pandas as pd\n",
        "from sklearn.model_selection import train_test_split\n",
        "\n",
        "# Load dataset\n",
        "file_path = r\"data.csv\"  # Path to the uploaded dataset\n",
        "df = pd.read_csv(file_path)\n",
        "\n",
        "# Check available class labels\n",
        "print(\"Unique class labels in dataset:\", df[\"target\"].unique())\n",
        "\n",
        "# Ensure binary classification (if more than 2 classes, filter them)\n",
        "df = df[df[\"target\"].isin([0, 1])]  # Keeping only two classes if needed\n",
        "\n",
        "# Separate features (X) and target labels (y)\n",
        "X = df.drop(columns=[\"target\"])  # Feature matrix\n",
        "y = df[\"target\"]  # Class labels\n",
        "\n",
        "# Split into 70% train and 30% test\n",
        "X_train, X_test, y_train, y_test = train_test_split(X, y, test_size=0.3, random_state=42)\n",
        "\n",
        "# Display shapes of the resulting datasets\n",
        "print(\"Training set shape:\", X_train.shape, y_train.shape)\n",
        "print(\"Testing set shape:\", X_test.shape, y_test.shape)\n"
      ],
      "metadata": {
        "colab": {
          "base_uri": "https://localhost:8080/"
        },
        "id": "TMPhfhwgh6Df",
        "outputId": "062e8410-3793-47a2-be92-03bb0d62f236"
      },
      "execution_count": 8,
      "outputs": [
        {
          "output_type": "stream",
          "name": "stdout",
          "text": [
            "Unique class labels in dataset: [1 0]\n",
            "Training set shape: (189, 13) (189,)\n",
            "Testing set shape: (81, 13) (81,)\n"
          ]
        }
      ]
    },
    {
      "cell_type": "code",
      "source": [
        "import numpy as np\n",
        "import pandas as pd\n",
        "from sklearn.model_selection import train_test_split\n",
        "\n",
        "# Load dataset\n",
        "file_path = \"data.csv\"\n",
        "df = pd.read_csv(file_path)\n",
        "\n",
        "# Ensure binary classification (filtering only classes 0 and 1 if needed)\n",
        "df = df[df[\"target\"].isin([0, 1])]\n",
        "\n",
        "# Split features and target variable\n",
        "X = df.drop(columns=[\"target\"])\n",
        "y = df[\"target\"]\n",
        "\n",
        "# Split data into train (70%) and test (30%) sets\n",
        "X_train, X_test, y_train, y_test = train_test_split(X, y, test_size=0.3, random_state=42)\n",
        "\n",
        "# Display dataset shape\n",
        "print(\"Training set shape:\", X_train.shape, y_train.shape)\n",
        "print(\"Testing set shape:\", X_test.shape, y_test.shape)\n"
      ],
      "metadata": {
        "colab": {
          "base_uri": "https://localhost:8080/"
        },
        "id": "8sIgmV82lrSN",
        "outputId": "77c38c43-210c-4ed9-bccd-2f3533b9cc4b"
      },
      "execution_count": 9,
      "outputs": [
        {
          "output_type": "stream",
          "name": "stdout",
          "text": [
            "Training set shape: (189, 13) (189,)\n",
            "Testing set shape: (81, 13) (81,)\n"
          ]
        }
      ]
    },
    {
      "cell_type": "code",
      "source": [
        "from sklearn.neighbors import KNeighborsClassifier\n",
        "\n",
        "# Initialize kNN with k=3\n",
        "knn = KNeighborsClassifier(n_neighbors=3)\n",
        "\n",
        "# Train the model\n",
        "knn.fit(X_train, y_train)\n",
        "\n",
        "print(\"kNN model trained successfully!\")\n"
      ],
      "metadata": {
        "colab": {
          "base_uri": "https://localhost:8080/"
        },
        "id": "GEUi-HdUq6pw",
        "outputId": "818a2ec8-6f00-4860-f38a-9ca33eb9b2f8"
      },
      "execution_count": 10,
      "outputs": [
        {
          "output_type": "stream",
          "name": "stdout",
          "text": [
            "kNN model trained successfully!\n"
          ]
        }
      ]
    },
    {
      "cell_type": "code",
      "source": [
        "# Evaluate accuracy on the test set\n",
        "accuracy = knn.score(X_test, y_test)\n",
        "print(f\"Accuracy of kNN (k=3) on test set: {accuracy:.4f}\")\n"
      ],
      "metadata": {
        "colab": {
          "base_uri": "https://localhost:8080/"
        },
        "id": "H81Et6vKrMCo",
        "outputId": "d35f2da3-e941-4764-e8c9-3f5fb4561e57"
      },
      "execution_count": 11,
      "outputs": [
        {
          "output_type": "stream",
          "name": "stdout",
          "text": [
            "Accuracy of kNN (k=3) on test set: 0.6667\n"
          ]
        }
      ]
    },
    {
      "cell_type": "code",
      "source": [
        "# Predict class labels for test set\n",
        "y_pred = knn.predict(X_test)\n",
        "\n",
        "# Display first 10 predictions\n",
        "print(\"First 10 predictions:\", y_pred[:10])\n"
      ],
      "metadata": {
        "colab": {
          "base_uri": "https://localhost:8080/"
        },
        "id": "fdj-lLG5sToi",
        "outputId": "e3423e2d-8242-4915-9690-03fd20a434a8"
      },
      "execution_count": 12,
      "outputs": [
        {
          "output_type": "stream",
          "name": "stdout",
          "text": [
            "First 10 predictions: [1 1 0 0 1 1 0 0 0 1]\n"
          ]
        }
      ]
    },
    {
      "cell_type": "code",
      "source": [
        "import matplotlib.pyplot as plt\n",
        "\n",
        "k_values = range(1, 12)  # k from 1 to 11\n",
        "accuracies = []\n",
        "\n",
        "for k in k_values:\n",
        "    knn = KNeighborsClassifier(n_neighbors=k)\n",
        "    knn.fit(X_train, y_train)\n",
        "    acc = knn.score(X_test, y_test)\n",
        "    accuracies.append(acc)\n",
        "\n",
        "# Plot accuracy vs k\n",
        "plt.figure(figsize=(8, 5))\n",
        "plt.plot(k_values, accuracies, marker='o', linestyle='-', color='b')\n",
        "plt.xlabel(\"k (Number of Neighbors)\")\n",
        "plt.ylabel(\"Test Set Accuracy\")\n",
        "plt.title(\"kNN Accuracy vs. k Value\")\n",
        "plt.xticks(k_values)\n",
        "plt.grid(alpha=0.6, linestyle=\"--\")\n",
        "plt.show()\n"
      ],
      "metadata": {
        "colab": {
          "base_uri": "https://localhost:8080/",
          "height": 487
        },
        "id": "KMNMN2wAtENv",
        "outputId": "efd04120-e513-47d8-f59b-834bdf83d55a"
      },
      "execution_count": 13,
      "outputs": [
        {
          "output_type": "display_data",
          "data": {
            "text/plain": [
              "<Figure size 800x500 with 1 Axes>"
            ],
            "image/png": "[encoded data removed]"
          },
          "metadata": {}
        }
      ]
    },
    {
      "cell_type": "code",
      "source": [
        "from sklearn.metrics import confusion_matrix, classification_report\n",
        "\n",
        "# Compute confusion matrix\n",
        "conf_matrix = confusion_matrix(y_test, y_pred)\n",
        "print(\"Confusion Matrix:\\n\", conf_matrix)\n",
        "\n",
        "# Compute precision, recall, F1-score\n",
        "report = classification_report(y_test, y_pred)\n",
        "print(\"Classification Report:\\n\", report)\n"
      ],
      "metadata": {
        "colab": {
          "base_uri": "https://localhost:8080/"
        },
        "id": "VX2zd9CVuQvZ",
        "outputId": "c1bf9e08-0e4e-49fb-db36-845d7916b7da"
      },
      "execution_count": 14,
      "outputs": [
        {
          "output_type": "stream",
          "name": "stdout",
          "text": [
            "Confusion Matrix:\n",
            " [[34 15]\n",
            " [12 20]]\n",
            "Classification Report:\n",
            "               precision    recall  f1-score   support\n",
            "\n",
            "           0       0.74      0.69      0.72        49\n",
            "           1       0.57      0.62      0.60        32\n",
            "\n",
            "    accuracy                           0.67        81\n",
            "   macro avg       0.66      0.66      0.66        81\n",
            "weighted avg       0.67      0.67      0.67        81\n",
            "\n"
          ]
        }
      ]
    }
  ]
}